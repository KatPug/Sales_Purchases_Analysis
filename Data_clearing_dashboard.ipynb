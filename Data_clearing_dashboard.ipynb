{
 "cells": [
  {
   "cell_type": "markdown",
   "metadata": {},
   "source": [
    "# Data preprocessing steps"
   ]
  },
  {
   "cell_type": "code",
   "execution_count": 145,
   "metadata": {
    "collapsed": true
   },
   "outputs": [],
   "source": [
    "# importing libraries\n",
    "\n",
    "import pandas as pd\n",
    "import numpy as np"
   ]
  },
  {
   "cell_type": "code",
   "execution_count": 152,
   "metadata": {
    "collapsed": true
   },
   "outputs": [],
   "source": [
    "# loading data and handling the NaNs\n",
    "\n",
    "df = pd.read_csv('task_data.csv', na_values=r'\\N', dtype={12: str, 13: str})"
   ]
  },
  {
   "cell_type": "code",
   "execution_count": null,
   "metadata": {
    "collapsed": true
   },
   "outputs": [],
   "source": [
    "df.loc[df['CANCELED_DATE'].notnull()]"
   ]
  },
  {
   "cell_type": "code",
   "execution_count": 155,
   "metadata": {
    "collapsed": true
   },
   "outputs": [],
   "source": [
    "# some  values in cancelled orders contain \"\\\\N', replacing it with zero\n",
    "\n",
    "df = df.replace(r'\\\\N', 0)"
   ]
  },
  {
   "cell_type": "code",
   "execution_count": 156,
   "metadata": {},
   "outputs": [
    {
     "data": {
      "text/plain": [
       "ORDER_UUID                    object\n",
       "ORDER_ITEM_ID                  int64\n",
       "ITEM_ID                        int64\n",
       "PRODUCT_ID                     int64\n",
       "NAME                          object\n",
       "CE_MEDIA                      object\n",
       "MAIN_CATEGORY                 object\n",
       "VARIANT_LABEL                 object\n",
       "CHANNEL                       object\n",
       "TYPE                          object\n",
       "CREATED_DATE          datetime64[ns]\n",
       "CANCELED_DATE         datetime64[ns]\n",
       "PAYMENT_DATE          datetime64[ns]\n",
       "GRADED_DATE           datetime64[ns]\n",
       "SENDING_DATE          datetime64[ns]\n",
       "PURCHASED_DATE        datetime64[ns]\n",
       "RETURNED_DATE         datetime64[ns]\n",
       "ORDER_RANK                     int64\n",
       "NEW_CUSTOMER_ORDER            object\n",
       "REVENUE                        int64\n",
       "dtype: object"
      ]
     },
     "execution_count": 156,
     "metadata": {},
     "output_type": "execute_result"
    }
   ],
   "source": [
    "# changing data types\n",
    "\n",
    "df['CANCELED_DATE'] = pd.to_datetime(df['CANCELED_DATE'])\n",
    "df['PAYMENT_DATE'] = pd.to_datetime(df['PAYMENT_DATE'])\n",
    "df['GRADED_DATE'] = pd.to_datetime(df['GRADED_DATE'])\n",
    "df['SENDING_DATE'] = pd.to_datetime(df['SENDING_DATE'])\n",
    "df['PURCHASED_DATE'] = pd.to_datetime(df['PURCHASED_DATE'])\n",
    "df['RETURNED_DATE'] = pd.to_datetime(df['RETURNED_DATE'])\n",
    "df['CREATED_DATE'] = pd.to_datetime(df['CREATED_DATE'])\n",
    "df['REVENUE'] = pd.to_numeric(df['REVENUE'])\n",
    "df.dtypes"
   ]
  },
  {
   "cell_type": "code",
   "execution_count": 158,
   "metadata": {
    "collapsed": true
   },
   "outputs": [],
   "source": [
    "# creating new column with revenue in euros\n",
    "\n",
    "df['amount'] = df['REVENUE'] / 100"
   ]
  },
  {
   "cell_type": "code",
   "execution_count": 138,
   "metadata": {
    "collapsed": true
   },
   "outputs": [],
   "source": [
    "# cancelled items may affect KPIs and calculations, I will save cancelled items to a separate dataset\n",
    "\n",
    "cancelled = df.loc[df['CANCELED_DATE'].notnull()]"
   ]
  },
  {
   "cell_type": "code",
   "execution_count": 139,
   "metadata": {
    "collapsed": true
   },
   "outputs": [],
   "source": [
    "# removing cancelled orders from dataset\n",
    "\n",
    "df = df[df['CANCELED_DATE'].isnull()]"
   ]
  },
  {
   "cell_type": "code",
   "execution_count": 78,
   "metadata": {
    "collapsed": true
   },
   "outputs": [],
   "source": [
    "cancelled.to_csv('cleared_cancelled.csv', index=False)"
   ]
  },
  {
   "cell_type": "code",
   "execution_count": null,
   "metadata": {
    "collapsed": true
   },
   "outputs": [],
   "source": [
    "# checking categorical values for consistency\n",
    "\n",
    "print(df['CE_MEDIA'].value_counts())\n",
    "print(df['MAIN_CATEGORY'].value_counts())\n",
    "print(df['VARIANT_LABEL'].value_counts())\n",
    "print(df['CHANNEL'].value_counts())\n",
    "print(df['TYPE'].value_counts())\n",
    "print(df['NEW_CUSTOMER_ORDER'].value_counts())"
   ]
  },
  {
   "cell_type": "code",
   "execution_count": 159,
   "metadata": {},
   "outputs": [],
   "source": [
    "df['NEW_CUSTOMER_ORDER'] = df['NEW_CUSTOMER_ORDER'].str.replace('0', 'false')"
   ]
  },
  {
   "cell_type": "code",
   "execution_count": 81,
   "metadata": {},
   "outputs": [
    {
     "name": "stdout",
     "output_type": "stream",
     "text": [
      "Empty DataFrame\n",
      "Columns: [ORDER_UUID, ORDER_ITEM_ID, ITEM_ID, PRODUCT_ID, NAME, CE_MEDIA, MAIN_CATEGORY, VARIANT_LABEL, CHANNEL, TYPE, CREATED_DATE, CANCELED_DATE, PAYMENT_DATE, GRADED_DATE, SENDING_DATE, PURCHASED_DATE, RETURNED_DATE, ORDER_RANK, NEW_CUSTOMER_ORDER, REVENUE, amount]\n",
      "Index: []\n",
      "\n",
      "[0 rows x 21 columns]\n"
     ]
    }
   ],
   "source": [
    "# checking for duplicates\n",
    "duplicate_rows = df[df.duplicated()]\n",
    "print(duplicate_rows)"
   ]
  },
  {
   "cell_type": "code",
   "execution_count": 161,
   "metadata": {},
   "outputs": [],
   "source": [
    "# Get the PURCHASED_DATE for each item_id where type == 'purchase'\n",
    "purchase_dates = df[df['TYPE'] == 'purchase'].set_index('ITEM_ID')['PURCHASED_DATE']\n",
    "\n",
    "# Map the PURCHASED_DATE to sale rows\n",
    "df['purchase_date_for_sale'] = df['ITEM_ID'].map(purchase_dates)"
   ]
  },
  {
   "cell_type": "code",
   "execution_count": 163,
   "metadata": {
    "collapsed": true
   },
   "outputs": [],
   "source": [
    "# Sort by item_id and CREATED_DATE\n",
    "df = df.sort_values(by=['ITEM_ID', 'CREATED_DATE'])\n",
    "\n",
    "# Get the previous RETURNED_DATE for each item_id\n",
    "df['previous_returned_date'] = df.groupby('ITEM_ID')['RETURNED_DATE'].shift()"
   ]
  },
  {
   "cell_type": "code",
   "execution_count": 170,
   "metadata": {
    "collapsed": true
   },
   "outputs": [],
   "source": [
    "# Get the 'amount' for the 'purchase' transaction for each item_id\n",
    "purchase_amounts = df[df['TYPE'] == 'purchase'].set_index('ITEM_ID')['amount']\n",
    "\n",
    "# Map the 'purchase' amount to sale rows\n",
    "df['purchase_amount_for_sale'] = df['ITEM_ID'].map(purchase_amounts)\n",
    "\n",
    "# Calculate the amount difference for 'sale' rows where RETURNED_DATE is null\n",
    "df['margin'] = df.apply(\n",
    "    lambda row: row['amount'] - row['purchase_amount_for_sale']\n",
    "    if row['TYPE'] == 'sale' and pd.isnull(row['RETURNED_DATE']) else None,\n",
    "    axis=1\n",
    ")"
   ]
  },
  {
   "cell_type": "code",
   "execution_count": 171,
   "metadata": {},
   "outputs": [
    {
     "data": {
      "text/html": [
       "<div>\n",
       "<style scoped>\n",
       "    .dataframe tbody tr th:only-of-type {\n",
       "        vertical-align: middle;\n",
       "    }\n",
       "\n",
       "    .dataframe tbody tr th {\n",
       "        vertical-align: top;\n",
       "    }\n",
       "\n",
       "    .dataframe thead th {\n",
       "        text-align: right;\n",
       "    }\n",
       "</style>\n",
       "<table border=\"1\" class=\"dataframe\">\n",
       "  <thead>\n",
       "    <tr style=\"text-align: right;\">\n",
       "      <th></th>\n",
       "      <th>ORDER_UUID</th>\n",
       "      <th>ORDER_ITEM_ID</th>\n",
       "      <th>ITEM_ID</th>\n",
       "      <th>PRODUCT_ID</th>\n",
       "      <th>NAME</th>\n",
       "      <th>CE_MEDIA</th>\n",
       "      <th>MAIN_CATEGORY</th>\n",
       "      <th>VARIANT_LABEL</th>\n",
       "      <th>CHANNEL</th>\n",
       "      <th>TYPE</th>\n",
       "      <th>...</th>\n",
       "      <th>PURCHASED_DATE</th>\n",
       "      <th>RETURNED_DATE</th>\n",
       "      <th>ORDER_RANK</th>\n",
       "      <th>NEW_CUSTOMER_ORDER</th>\n",
       "      <th>REVENUE</th>\n",
       "      <th>amount</th>\n",
       "      <th>purchase_date_for_sale</th>\n",
       "      <th>previous_returned_date</th>\n",
       "      <th>purchase_amount_for_sale</th>\n",
       "      <th>margin</th>\n",
       "    </tr>\n",
       "  </thead>\n",
       "  <tbody>\n",
       "    <tr>\n",
       "      <th>717567</th>\n",
       "      <td>1e74207f-45f8-43e0-a115-547b0c33d210</td>\n",
       "      <td>130612440</td>\n",
       "      <td>70583611</td>\n",
       "      <td>10274582</td>\n",
       "      <td>Apple iPhone 6s 64GB roségold</td>\n",
       "      <td>CE</td>\n",
       "      <td>Handy</td>\n",
       "      <td>A1</td>\n",
       "      <td>B2B</td>\n",
       "      <td>purchase</td>\n",
       "      <td>...</td>\n",
       "      <td>2017-12-15</td>\n",
       "      <td>NaT</td>\n",
       "      <td>11</td>\n",
       "      <td>false</td>\n",
       "      <td>44784</td>\n",
       "      <td>447.84</td>\n",
       "      <td>2017-12-15</td>\n",
       "      <td>NaT</td>\n",
       "      <td>447.84</td>\n",
       "      <td>NaN</td>\n",
       "    </tr>\n",
       "    <tr>\n",
       "      <th>761630</th>\n",
       "      <td>2287fb91-3000-477a-8337-9647fb8daa83</td>\n",
       "      <td>138562397</td>\n",
       "      <td>70583611</td>\n",
       "      <td>10274582</td>\n",
       "      <td>Apple iPhone 6s 64GB roségold</td>\n",
       "      <td>CE</td>\n",
       "      <td>Handy</td>\n",
       "      <td>A1</td>\n",
       "      <td>reBuy.de</td>\n",
       "      <td>sale</td>\n",
       "      <td>...</td>\n",
       "      <td>NaT</td>\n",
       "      <td>2018-03-29</td>\n",
       "      <td>1</td>\n",
       "      <td>true</td>\n",
       "      <td>36942</td>\n",
       "      <td>369.42</td>\n",
       "      <td>2017-12-15</td>\n",
       "      <td>NaT</td>\n",
       "      <td>447.84</td>\n",
       "      <td>NaN</td>\n",
       "    </tr>\n",
       "    <tr>\n",
       "      <th>794944</th>\n",
       "      <td>525d6a03-a7b7-4fc4-9757-882a7e882c5a</td>\n",
       "      <td>144596878</td>\n",
       "      <td>70583611</td>\n",
       "      <td>10274582</td>\n",
       "      <td>Apple iPhone 6s 64GB roségold</td>\n",
       "      <td>CE</td>\n",
       "      <td>Handy</td>\n",
       "      <td>A1</td>\n",
       "      <td>reBuy.de</td>\n",
       "      <td>sale</td>\n",
       "      <td>...</td>\n",
       "      <td>NaT</td>\n",
       "      <td>2018-08-27</td>\n",
       "      <td>1</td>\n",
       "      <td>true</td>\n",
       "      <td>48821</td>\n",
       "      <td>488.21</td>\n",
       "      <td>2017-12-15</td>\n",
       "      <td>2018-03-29</td>\n",
       "      <td>447.84</td>\n",
       "      <td>NaN</td>\n",
       "    </tr>\n",
       "    <tr>\n",
       "      <th>894645</th>\n",
       "      <td>86d2538a-dae2-4d85-8038-b3b056a456c7</td>\n",
       "      <td>162595867</td>\n",
       "      <td>70583611</td>\n",
       "      <td>10274582</td>\n",
       "      <td>Apple iPhone 6s 64GB roségold</td>\n",
       "      <td>CE</td>\n",
       "      <td>Handy</td>\n",
       "      <td>No Variant</td>\n",
       "      <td>ebay</td>\n",
       "      <td>sale</td>\n",
       "      <td>...</td>\n",
       "      <td>NaT</td>\n",
       "      <td>2019-03-06</td>\n",
       "      <td>11</td>\n",
       "      <td>false</td>\n",
       "      <td>4389</td>\n",
       "      <td>43.89</td>\n",
       "      <td>2017-12-15</td>\n",
       "      <td>2018-08-27</td>\n",
       "      <td>447.84</td>\n",
       "      <td>NaN</td>\n",
       "    </tr>\n",
       "    <tr>\n",
       "      <th>910691</th>\n",
       "      <td>9eefc533-8ea5-49ce-ba21-d6edfc5424f1</td>\n",
       "      <td>165542184</td>\n",
       "      <td>70583611</td>\n",
       "      <td>10274582</td>\n",
       "      <td>Apple iPhone 6s 64GB roségold</td>\n",
       "      <td>CE</td>\n",
       "      <td>Handy</td>\n",
       "      <td>No Variant</td>\n",
       "      <td>ebay</td>\n",
       "      <td>sale</td>\n",
       "      <td>...</td>\n",
       "      <td>NaT</td>\n",
       "      <td>2019-04-09</td>\n",
       "      <td>2</td>\n",
       "      <td>false</td>\n",
       "      <td>8290</td>\n",
       "      <td>82.90</td>\n",
       "      <td>2017-12-15</td>\n",
       "      <td>2019-03-06</td>\n",
       "      <td>447.84</td>\n",
       "      <td>NaN</td>\n",
       "    </tr>\n",
       "    <tr>\n",
       "      <th>921604</th>\n",
       "      <td>94b6c984-5ff8-4451-957f-da8362ab6b30</td>\n",
       "      <td>167480887</td>\n",
       "      <td>70583611</td>\n",
       "      <td>10274582</td>\n",
       "      <td>Apple iPhone 6s 64GB roségold</td>\n",
       "      <td>CE</td>\n",
       "      <td>Handy</td>\n",
       "      <td>No Variant</td>\n",
       "      <td>ebay</td>\n",
       "      <td>sale</td>\n",
       "      <td>...</td>\n",
       "      <td>NaT</td>\n",
       "      <td>2019-04-25</td>\n",
       "      <td>63</td>\n",
       "      <td>false</td>\n",
       "      <td>13448</td>\n",
       "      <td>134.48</td>\n",
       "      <td>2017-12-15</td>\n",
       "      <td>2019-04-09</td>\n",
       "      <td>447.84</td>\n",
       "      <td>NaN</td>\n",
       "    </tr>\n",
       "    <tr>\n",
       "      <th>932150</th>\n",
       "      <td>532762c8-53ea-4c56-9775-caf1419ac1d8</td>\n",
       "      <td>169384600</td>\n",
       "      <td>70583611</td>\n",
       "      <td>10274582</td>\n",
       "      <td>Apple iPhone 6s 64GB roségold</td>\n",
       "      <td>CE</td>\n",
       "      <td>Handy</td>\n",
       "      <td>No Variant</td>\n",
       "      <td>ebay</td>\n",
       "      <td>sale</td>\n",
       "      <td>...</td>\n",
       "      <td>NaT</td>\n",
       "      <td>2019-05-15</td>\n",
       "      <td>76</td>\n",
       "      <td>false</td>\n",
       "      <td>3714</td>\n",
       "      <td>37.14</td>\n",
       "      <td>2017-12-15</td>\n",
       "      <td>2019-04-25</td>\n",
       "      <td>447.84</td>\n",
       "      <td>NaN</td>\n",
       "    </tr>\n",
       "    <tr>\n",
       "      <th>939697</th>\n",
       "      <td>59d22adf-39d3-421b-a951-063b6406524d</td>\n",
       "      <td>170750310</td>\n",
       "      <td>70583611</td>\n",
       "      <td>10274582</td>\n",
       "      <td>Apple iPhone 6s 64GB roségold</td>\n",
       "      <td>CE</td>\n",
       "      <td>Handy</td>\n",
       "      <td>No Variant</td>\n",
       "      <td>ebay</td>\n",
       "      <td>sale</td>\n",
       "      <td>...</td>\n",
       "      <td>NaT</td>\n",
       "      <td>NaT</td>\n",
       "      <td>7</td>\n",
       "      <td>false</td>\n",
       "      <td>11082</td>\n",
       "      <td>110.82</td>\n",
       "      <td>2017-12-15</td>\n",
       "      <td>2019-05-15</td>\n",
       "      <td>447.84</td>\n",
       "      <td>-337.02</td>\n",
       "    </tr>\n",
       "  </tbody>\n",
       "</table>\n",
       "<p>8 rows × 25 columns</p>\n",
       "</div>"
      ],
      "text/plain": [
       "                                  ORDER_UUID  ORDER_ITEM_ID   ITEM_ID  \\\n",
       "717567  1e74207f-45f8-43e0-a115-547b0c33d210      130612440  70583611   \n",
       "761630  2287fb91-3000-477a-8337-9647fb8daa83      138562397  70583611   \n",
       "794944  525d6a03-a7b7-4fc4-9757-882a7e882c5a      144596878  70583611   \n",
       "894645  86d2538a-dae2-4d85-8038-b3b056a456c7      162595867  70583611   \n",
       "910691  9eefc533-8ea5-49ce-ba21-d6edfc5424f1      165542184  70583611   \n",
       "921604  94b6c984-5ff8-4451-957f-da8362ab6b30      167480887  70583611   \n",
       "932150  532762c8-53ea-4c56-9775-caf1419ac1d8      169384600  70583611   \n",
       "939697  59d22adf-39d3-421b-a951-063b6406524d      170750310  70583611   \n",
       "\n",
       "        PRODUCT_ID                           NAME CE_MEDIA MAIN_CATEGORY  \\\n",
       "717567    10274582  Apple iPhone 6s 64GB roségold       CE         Handy   \n",
       "761630    10274582  Apple iPhone 6s 64GB roségold       CE         Handy   \n",
       "794944    10274582  Apple iPhone 6s 64GB roségold       CE         Handy   \n",
       "894645    10274582  Apple iPhone 6s 64GB roségold       CE         Handy   \n",
       "910691    10274582  Apple iPhone 6s 64GB roségold       CE         Handy   \n",
       "921604    10274582  Apple iPhone 6s 64GB roségold       CE         Handy   \n",
       "932150    10274582  Apple iPhone 6s 64GB roségold       CE         Handy   \n",
       "939697    10274582  Apple iPhone 6s 64GB roségold       CE         Handy   \n",
       "\n",
       "       VARIANT_LABEL   CHANNEL      TYPE  ... PURCHASED_DATE RETURNED_DATE  \\\n",
       "717567            A1       B2B  purchase  ...     2017-12-15           NaT   \n",
       "761630            A1  reBuy.de      sale  ...            NaT    2018-03-29   \n",
       "794944            A1  reBuy.de      sale  ...            NaT    2018-08-27   \n",
       "894645    No Variant      ebay      sale  ...            NaT    2019-03-06   \n",
       "910691    No Variant      ebay      sale  ...            NaT    2019-04-09   \n",
       "921604    No Variant      ebay      sale  ...            NaT    2019-04-25   \n",
       "932150    No Variant      ebay      sale  ...            NaT    2019-05-15   \n",
       "939697    No Variant      ebay      sale  ...            NaT           NaT   \n",
       "\n",
       "       ORDER_RANK NEW_CUSTOMER_ORDER REVENUE  amount purchase_date_for_sale  \\\n",
       "717567         11              false   44784  447.84             2017-12-15   \n",
       "761630          1               true   36942  369.42             2017-12-15   \n",
       "794944          1               true   48821  488.21             2017-12-15   \n",
       "894645         11              false    4389   43.89             2017-12-15   \n",
       "910691          2              false    8290   82.90             2017-12-15   \n",
       "921604         63              false   13448  134.48             2017-12-15   \n",
       "932150         76              false    3714   37.14             2017-12-15   \n",
       "939697          7              false   11082  110.82             2017-12-15   \n",
       "\n",
       "        previous_returned_date purchase_amount_for_sale  margin  \n",
       "717567                     NaT                   447.84     NaN  \n",
       "761630                     NaT                   447.84     NaN  \n",
       "794944              2018-03-29                   447.84     NaN  \n",
       "894645              2018-08-27                   447.84     NaN  \n",
       "910691              2019-03-06                   447.84     NaN  \n",
       "921604              2019-04-09                   447.84     NaN  \n",
       "932150              2019-04-25                   447.84     NaN  \n",
       "939697              2019-05-15                   447.84 -337.02  \n",
       "\n",
       "[8 rows x 25 columns]"
      ]
     },
     "execution_count": 171,
     "metadata": {},
     "output_type": "execute_result"
    }
   ],
   "source": [
    "# checking if everything was assigned correctly\n",
    "\n",
    "df[df['ITEM_ID'] == 70583611]"
   ]
  },
  {
   "cell_type": "code",
   "execution_count": 172,
   "metadata": {},
   "outputs": [],
   "source": [
    "last_year = df[df['CREATED_DATE'] >= '2018-01-01']"
   ]
  },
  {
   "cell_type": "code",
   "execution_count": 173,
   "metadata": {
    "collapsed": true
   },
   "outputs": [],
   "source": [
    "last_year = last_year.drop('CANCELED_DATE', axis=1)"
   ]
  },
  {
   "cell_type": "code",
   "execution_count": 175,
   "metadata": {
    "collapsed": true
   },
   "outputs": [],
   "source": [
    "last_year.to_csv('last_years.csv', index=False)"
   ]
  }
 ],
 "metadata": {
  "kernelspec": {
   "display_name": "Python 3",
   "language": "python",
   "name": "python3"
  },
  "language_info": {
   "codemirror_mode": {
    "name": "ipython",
    "version": 3
   },
   "file_extension": ".py",
   "mimetype": "text/x-python",
   "name": "python",
   "nbconvert_exporter": "python",
   "pygments_lexer": "ipython3",
   "version": "3.6.3"
  }
 },
 "nbformat": 4,
 "nbformat_minor": 2
}
